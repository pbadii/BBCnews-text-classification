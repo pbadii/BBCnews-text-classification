{
 "cells": [
  {
   "cell_type": "code",
   "execution_count": 401,
   "id": "77e921d7",
   "metadata": {},
   "outputs": [],
   "source": [
    "#Import libraries\n",
    "import pandas as pd\n",
    "import numpy as np\n",
    "import matplotlib.pyplot as plt\n",
    "import scipy as sp\n",
    "import scipy.stats as stats\n",
    "import seaborn as sns\n",
    "from sklearn.cluster import AgglomerativeClustering, KMeans\n",
    "from sklearn.decomposition import TruncatedSVD, NMF\n",
    "from sklearn.metrics import accuracy_score, confusion_matrix,silhouette_score\n",
    "from sklearn.feature_extraction.text import TfidfVectorizer, CountVectorizer\n",
    "from sklearn.tree import DecisionTreeClassifier\n",
    "from sklearn.model_selection import train_test_split\n",
    "\n",
    "\n",
    "import time\n",
    "from sklearn.decomposition import PCA\n",
    "from sklearn.preprocessing import StandardScaler, normalize\n",
    "import scipy.cluster.hierarchy as shc"
   ]
  },
  {
   "cell_type": "code",
   "execution_count": 169,
   "id": "14723c6e",
   "metadata": {},
   "outputs": [
    {
     "data": {
      "text/html": [
       "<div>\n",
       "<style scoped>\n",
       "    .dataframe tbody tr th:only-of-type {\n",
       "        vertical-align: middle;\n",
       "    }\n",
       "\n",
       "    .dataframe tbody tr th {\n",
       "        vertical-align: top;\n",
       "    }\n",
       "\n",
       "    .dataframe thead th {\n",
       "        text-align: right;\n",
       "    }\n",
       "</style>\n",
       "<table border=\"1\" class=\"dataframe\">\n",
       "  <thead>\n",
       "    <tr style=\"text-align: right;\">\n",
       "      <th></th>\n",
       "      <th>ArticleId</th>\n",
       "      <th>Text</th>\n",
       "      <th>Category</th>\n",
       "    </tr>\n",
       "  </thead>\n",
       "  <tbody>\n",
       "    <tr>\n",
       "      <th>0</th>\n",
       "      <td>1833</td>\n",
       "      <td>worldcom ex-boss launches defence lawyers defe...</td>\n",
       "      <td>business</td>\n",
       "    </tr>\n",
       "    <tr>\n",
       "      <th>1</th>\n",
       "      <td>154</td>\n",
       "      <td>german business confidence slides german busin...</td>\n",
       "      <td>business</td>\n",
       "    </tr>\n",
       "    <tr>\n",
       "      <th>2</th>\n",
       "      <td>1101</td>\n",
       "      <td>bbc poll indicates economic gloom citizens in ...</td>\n",
       "      <td>business</td>\n",
       "    </tr>\n",
       "    <tr>\n",
       "      <th>3</th>\n",
       "      <td>1976</td>\n",
       "      <td>lifestyle  governs mobile choice  faster  bett...</td>\n",
       "      <td>tech</td>\n",
       "    </tr>\n",
       "    <tr>\n",
       "      <th>4</th>\n",
       "      <td>917</td>\n",
       "      <td>enron bosses in $168m payout eighteen former e...</td>\n",
       "      <td>business</td>\n",
       "    </tr>\n",
       "    <tr>\n",
       "      <th>...</th>\n",
       "      <td>...</td>\n",
       "      <td>...</td>\n",
       "      <td>...</td>\n",
       "    </tr>\n",
       "    <tr>\n",
       "      <th>1485</th>\n",
       "      <td>857</td>\n",
       "      <td>double eviction from big brother model caprice...</td>\n",
       "      <td>entertainment</td>\n",
       "    </tr>\n",
       "    <tr>\n",
       "      <th>1486</th>\n",
       "      <td>325</td>\n",
       "      <td>dj double act revamp chart show dj duo jk and ...</td>\n",
       "      <td>entertainment</td>\n",
       "    </tr>\n",
       "    <tr>\n",
       "      <th>1487</th>\n",
       "      <td>1590</td>\n",
       "      <td>weak dollar hits reuters revenues at media gro...</td>\n",
       "      <td>business</td>\n",
       "    </tr>\n",
       "    <tr>\n",
       "      <th>1488</th>\n",
       "      <td>1587</td>\n",
       "      <td>apple ipod family expands market apple has exp...</td>\n",
       "      <td>tech</td>\n",
       "    </tr>\n",
       "    <tr>\n",
       "      <th>1489</th>\n",
       "      <td>538</td>\n",
       "      <td>santy worm makes unwelcome visit thousands of ...</td>\n",
       "      <td>tech</td>\n",
       "    </tr>\n",
       "  </tbody>\n",
       "</table>\n",
       "<p>1490 rows × 3 columns</p>\n",
       "</div>"
      ],
      "text/plain": [
       "      ArticleId                                               Text  \\\n",
       "0          1833  worldcom ex-boss launches defence lawyers defe...   \n",
       "1           154  german business confidence slides german busin...   \n",
       "2          1101  bbc poll indicates economic gloom citizens in ...   \n",
       "3          1976  lifestyle  governs mobile choice  faster  bett...   \n",
       "4           917  enron bosses in $168m payout eighteen former e...   \n",
       "...         ...                                                ...   \n",
       "1485        857  double eviction from big brother model caprice...   \n",
       "1486        325  dj double act revamp chart show dj duo jk and ...   \n",
       "1487       1590  weak dollar hits reuters revenues at media gro...   \n",
       "1488       1587  apple ipod family expands market apple has exp...   \n",
       "1489        538  santy worm makes unwelcome visit thousands of ...   \n",
       "\n",
       "           Category  \n",
       "0          business  \n",
       "1          business  \n",
       "2          business  \n",
       "3              tech  \n",
       "4          business  \n",
       "...             ...  \n",
       "1485  entertainment  \n",
       "1486  entertainment  \n",
       "1487       business  \n",
       "1488           tech  \n",
       "1489           tech  \n",
       "\n",
       "[1490 rows x 3 columns]"
      ]
     },
     "metadata": {},
     "output_type": "display_data"
    },
    {
     "data": {
      "text/html": [
       "<div>\n",
       "<style scoped>\n",
       "    .dataframe tbody tr th:only-of-type {\n",
       "        vertical-align: middle;\n",
       "    }\n",
       "\n",
       "    .dataframe tbody tr th {\n",
       "        vertical-align: top;\n",
       "    }\n",
       "\n",
       "    .dataframe thead th {\n",
       "        text-align: right;\n",
       "    }\n",
       "</style>\n",
       "<table border=\"1\" class=\"dataframe\">\n",
       "  <thead>\n",
       "    <tr style=\"text-align: right;\">\n",
       "      <th></th>\n",
       "      <th>ArticleId</th>\n",
       "      <th>Text</th>\n",
       "    </tr>\n",
       "  </thead>\n",
       "  <tbody>\n",
       "    <tr>\n",
       "      <th>0</th>\n",
       "      <td>1018</td>\n",
       "      <td>qpr keeper day heads for preston queens park r...</td>\n",
       "    </tr>\n",
       "    <tr>\n",
       "      <th>1</th>\n",
       "      <td>1319</td>\n",
       "      <td>software watching while you work software that...</td>\n",
       "    </tr>\n",
       "    <tr>\n",
       "      <th>2</th>\n",
       "      <td>1138</td>\n",
       "      <td>d arcy injury adds to ireland woe gordon d arc...</td>\n",
       "    </tr>\n",
       "    <tr>\n",
       "      <th>3</th>\n",
       "      <td>459</td>\n",
       "      <td>india s reliance family feud heats up the ongo...</td>\n",
       "    </tr>\n",
       "    <tr>\n",
       "      <th>4</th>\n",
       "      <td>1020</td>\n",
       "      <td>boro suffer morrison injury blow middlesbrough...</td>\n",
       "    </tr>\n",
       "    <tr>\n",
       "      <th>...</th>\n",
       "      <td>...</td>\n",
       "      <td>...</td>\n",
       "    </tr>\n",
       "    <tr>\n",
       "      <th>730</th>\n",
       "      <td>1923</td>\n",
       "      <td>eu to probe alitalia  state aid  the european ...</td>\n",
       "    </tr>\n",
       "    <tr>\n",
       "      <th>731</th>\n",
       "      <td>373</td>\n",
       "      <td>u2 to play at grammy awards show irish rock ba...</td>\n",
       "    </tr>\n",
       "    <tr>\n",
       "      <th>732</th>\n",
       "      <td>1704</td>\n",
       "      <td>sport betting rules in spotlight a group of mp...</td>\n",
       "    </tr>\n",
       "    <tr>\n",
       "      <th>733</th>\n",
       "      <td>206</td>\n",
       "      <td>alfa romeos  to get gm engines  fiat is to sto...</td>\n",
       "    </tr>\n",
       "    <tr>\n",
       "      <th>734</th>\n",
       "      <td>471</td>\n",
       "      <td>citizenship event for 18s touted citizenship c...</td>\n",
       "    </tr>\n",
       "  </tbody>\n",
       "</table>\n",
       "<p>735 rows × 2 columns</p>\n",
       "</div>"
      ],
      "text/plain": [
       "     ArticleId                                               Text\n",
       "0         1018  qpr keeper day heads for preston queens park r...\n",
       "1         1319  software watching while you work software that...\n",
       "2         1138  d arcy injury adds to ireland woe gordon d arc...\n",
       "3          459  india s reliance family feud heats up the ongo...\n",
       "4         1020  boro suffer morrison injury blow middlesbrough...\n",
       "..         ...                                                ...\n",
       "730       1923  eu to probe alitalia  state aid  the european ...\n",
       "731        373  u2 to play at grammy awards show irish rock ba...\n",
       "732       1704  sport betting rules in spotlight a group of mp...\n",
       "733        206  alfa romeos  to get gm engines  fiat is to sto...\n",
       "734        471  citizenship event for 18s touted citizenship c...\n",
       "\n",
       "[735 rows x 2 columns]"
      ]
     },
     "metadata": {},
     "output_type": "display_data"
    }
   ],
   "source": [
    "#Import the datasets \n",
    "\n",
    "bbc_train = pd.read_csv(\"/home/pao/Documents/Masters/BBC News Train.csv\")\n",
    "bbc_test = pd.read_csv(\"/home/pao/Documents/Masters/BBC News Test.csv\")\n",
    "\n",
    "display(bbc_train)\n",
    "display(bbc_test)\n"
   ]
  },
  {
   "cell_type": "markdown",
   "id": "97c4655a",
   "metadata": {},
   "source": [
    "## Exploratory analysis\n",
    "\n",
    "**Extracting word features and show Exploratory Data Analysis (EDA) — Inspect, Visualize and Clean the Data (15 pts)**\n",
    "\n",
    "In this section, I will look at the data and see if there are any obvious issues that need to be fixed - such as NA values or an unbalanced distribution of number of articles by category. \n",
    "\n",
    "Once the data looks good, I'll preprocess by using vectorization techniques and dimensionality reduction. This step is crucial for the models to perform well. "
   ]
  },
  {
   "cell_type": "code",
   "execution_count": 189,
   "id": "5dd21c6b",
   "metadata": {},
   "outputs": [
    {
     "name": "stdout",
     "output_type": "stream",
     "text": [
      "Total Articles:  1490\n",
      "Total Categories:  5\n",
      "Categories:  ['business' 'entertainment' 'politics' 'sport' 'tech']\n"
     ]
    }
   ],
   "source": [
    "#Check for NAs \n",
    "bbc_train.isna().sum()\n",
    "\n",
    "#Basic stats\n",
    "print('Total Articles: ', len(bbc_train.index))\n",
    "print('Total Categories: ', len(bbc_train.Category.unique()))\n",
    "print('Categories: ', np.unique(bbc_train.Category))"
   ]
  },
  {
   "cell_type": "code",
   "execution_count": 207,
   "id": "04373fd1",
   "metadata": {},
   "outputs": [
    {
     "data": {
      "text/plain": [
       "Text(0.5, 1.0, 'Number of Articles by Category')"
      ]
     },
     "execution_count": 207,
     "metadata": {},
     "output_type": "execute_result"
    },
    {
     "data": {
      "image/png": "[encoded data removed]",
      "text/plain": [
       "<Figure size 720x360 with 1 Axes>"
      ]
     },
     "metadata": {
      "needs_background": "light"
     },
     "output_type": "display_data"
    }
   ],
   "source": [
    "#look at the number of observations for each label category to assess for balance\n",
    "plt.figure(figsize=(10,5))\n",
    "cat_count = sns.histplot(data=bbc_train, x='Category', hue='Category',legend=True)\n",
    "plt.title('Number of Articles by Category')\n"
   ]
  },
  {
   "cell_type": "code",
   "execution_count": 171,
   "id": "b0379792",
   "metadata": {},
   "outputs": [
    {
     "data": {
      "text/html": [
       "<div>\n",
       "<style scoped>\n",
       "    .dataframe tbody tr th:only-of-type {\n",
       "        vertical-align: middle;\n",
       "    }\n",
       "\n",
       "    .dataframe tbody tr th {\n",
       "        vertical-align: top;\n",
       "    }\n",
       "\n",
       "    .dataframe thead th {\n",
       "        text-align: right;\n",
       "    }\n",
       "</style>\n",
       "<table border=\"1\" class=\"dataframe\">\n",
       "  <thead>\n",
       "    <tr style=\"text-align: right;\">\n",
       "      <th></th>\n",
       "      <th>ArticleId</th>\n",
       "      <th>Text</th>\n",
       "      <th>Category</th>\n",
       "      <th>Word_count</th>\n",
       "    </tr>\n",
       "  </thead>\n",
       "  <tbody>\n",
       "    <tr>\n",
       "      <th>0</th>\n",
       "      <td>1833</td>\n",
       "      <td>worldcom ex-boss launches defence lawyers defe...</td>\n",
       "      <td>business</td>\n",
       "      <td>1866</td>\n",
       "    </tr>\n",
       "    <tr>\n",
       "      <th>1</th>\n",
       "      <td>154</td>\n",
       "      <td>german business confidence slides german busin...</td>\n",
       "      <td>business</td>\n",
       "      <td>2016</td>\n",
       "    </tr>\n",
       "    <tr>\n",
       "      <th>2</th>\n",
       "      <td>1101</td>\n",
       "      <td>bbc poll indicates economic gloom citizens in ...</td>\n",
       "      <td>business</td>\n",
       "      <td>3104</td>\n",
       "    </tr>\n",
       "    <tr>\n",
       "      <th>3</th>\n",
       "      <td>1976</td>\n",
       "      <td>lifestyle  governs mobile choice  faster  bett...</td>\n",
       "      <td>tech</td>\n",
       "      <td>3618</td>\n",
       "    </tr>\n",
       "    <tr>\n",
       "      <th>4</th>\n",
       "      <td>917</td>\n",
       "      <td>enron bosses in $168m payout eighteen former e...</td>\n",
       "      <td>business</td>\n",
       "      <td>2190</td>\n",
       "    </tr>\n",
       "    <tr>\n",
       "      <th>...</th>\n",
       "      <td>...</td>\n",
       "      <td>...</td>\n",
       "      <td>...</td>\n",
       "      <td>...</td>\n",
       "    </tr>\n",
       "    <tr>\n",
       "      <th>1485</th>\n",
       "      <td>857</td>\n",
       "      <td>double eviction from big brother model caprice...</td>\n",
       "      <td>entertainment</td>\n",
       "      <td>1266</td>\n",
       "    </tr>\n",
       "    <tr>\n",
       "      <th>1486</th>\n",
       "      <td>325</td>\n",
       "      <td>dj double act revamp chart show dj duo jk and ...</td>\n",
       "      <td>entertainment</td>\n",
       "      <td>3111</td>\n",
       "    </tr>\n",
       "    <tr>\n",
       "      <th>1487</th>\n",
       "      <td>1590</td>\n",
       "      <td>weak dollar hits reuters revenues at media gro...</td>\n",
       "      <td>business</td>\n",
       "      <td>1370</td>\n",
       "    </tr>\n",
       "    <tr>\n",
       "      <th>1488</th>\n",
       "      <td>1587</td>\n",
       "      <td>apple ipod family expands market apple has exp...</td>\n",
       "      <td>tech</td>\n",
       "      <td>3242</td>\n",
       "    </tr>\n",
       "    <tr>\n",
       "      <th>1489</th>\n",
       "      <td>538</td>\n",
       "      <td>santy worm makes unwelcome visit thousands of ...</td>\n",
       "      <td>tech</td>\n",
       "      <td>1723</td>\n",
       "    </tr>\n",
       "  </tbody>\n",
       "</table>\n",
       "<p>1490 rows × 4 columns</p>\n",
       "</div>"
      ],
      "text/plain": [
       "      ArticleId                                               Text  \\\n",
       "0          1833  worldcom ex-boss launches defence lawyers defe...   \n",
       "1           154  german business confidence slides german busin...   \n",
       "2          1101  bbc poll indicates economic gloom citizens in ...   \n",
       "3          1976  lifestyle  governs mobile choice  faster  bett...   \n",
       "4           917  enron bosses in $168m payout eighteen former e...   \n",
       "...         ...                                                ...   \n",
       "1485        857  double eviction from big brother model caprice...   \n",
       "1486        325  dj double act revamp chart show dj duo jk and ...   \n",
       "1487       1590  weak dollar hits reuters revenues at media gro...   \n",
       "1488       1587  apple ipod family expands market apple has exp...   \n",
       "1489        538  santy worm makes unwelcome visit thousands of ...   \n",
       "\n",
       "           Category  Word_count  \n",
       "0          business        1866  \n",
       "1          business        2016  \n",
       "2          business        3104  \n",
       "3              tech        3618  \n",
       "4          business        2190  \n",
       "...             ...         ...  \n",
       "1485  entertainment        1266  \n",
       "1486  entertainment        3111  \n",
       "1487       business        1370  \n",
       "1488           tech        3242  \n",
       "1489           tech        1723  \n",
       "\n",
       "[1490 rows x 4 columns]"
      ]
     },
     "execution_count": 171,
     "metadata": {},
     "output_type": "execute_result"
    }
   ],
   "source": [
    "#let's look at word count per entry and the distribution of word count per category.\n",
    "bbc_train['Word_count'] = [ len(text) for text in bbc_train.Text ]\n",
    "bbc_train\n"
   ]
  },
  {
   "cell_type": "code",
   "execution_count": 183,
   "id": "26f67551",
   "metadata": {},
   "outputs": [
    {
     "name": "stderr",
     "output_type": "stream",
     "text": [
      "/tmp/ipykernel_76283/2901098454.py:2: FutureWarning: \n",
      "\n",
      "Passing `palette` without assigning `hue` is deprecated and will be removed in v0.14.0. Assign the `x` variable to `hue` and set `legend=False` for the same effect.\n",
      "\n",
      "  dist = sns.violinplot(data = bbc_train, x='Category', y='Word_count',palette = \"pastel\" )\n"
     ]
    },
    {
     "data": {
      "image/png": "[encoded data removed]",
      "text/plain": [
       "<Figure size 720x720 with 1 Axes>"
      ]
     },
     "metadata": {
      "needs_background": "light"
     },
     "output_type": "display_data"
    }
   ],
   "source": [
    "#Graphing the distribution of word count for each article by category\n",
    "plt.figure(figsize=(10,10))\n",
    "dist = sns.violinplot(data = bbc_train, x='Category', y='Word_count',palette = \"pastel\" )"
   ]
  },
  {
   "cell_type": "code",
   "execution_count": 208,
   "id": "9ef725c5",
   "metadata": {},
   "outputs": [],
   "source": [
    "#I want to have numeric labels for the category, so I will factorize \n",
    "\n",
    "bbc_train['Categ_num'] = bbc_train['Category'].factorize()[0]\n",
    "num_true_labels = bbc_train.Categ_num\n"
   ]
  },
  {
   "cell_type": "markdown",
   "id": "cfa7ec62",
   "metadata": {},
   "source": [
    "### Pre-Processing the Data\n",
    "\n",
    "To move forward with the models, we need to have numeric data. In the pre-processing stage of the data cleaning, I will use different techniques to vectorize the data and extract a numerical value that is representative of some property(s) of the text content. \n",
    "\n",
    "A common technique is to count the number of words in the text and turn it into a matrix where the rows are each document and the columns are each word that occurred in the document. \n",
    "\n",
    "Another technique is to get a 'Term Frequency' where the number of times a word appears in a document is divided by the total word count of the document. The idea here is that the frequency of a word is tied to the message in the text and so, a higher frequency of a word is an indicator that the text is likely about that topic. \n",
    "\n",
    "I want to extract the word counts and TF-IDF values for each word in every document. Sklearn has a library for TfidfVectorization I will use as well as CountVectorizer. On the TfidfVec documentation, I found that I can change the parameters to get different properties in my resulting matrix. I want to explore how changing these can affect the models later on. I will make two vectorized matrices with different parameters for each: TfidfVect and CountVect\n",
    "\n",
    "The parameters I will be passing will be Sublinear scaling (log) and stop words:\n",
    "- The default parameters will be used in '_def' vector objects and\n",
    "- The restrictive parameters will be used in '_rstrct' vector objects (sublinear_tf=True, stop_words=[list])\n",
    "\n",
    "\n"
   ]
  },
  {
   "cell_type": "code",
   "execution_count": 240,
   "id": "aa0967d9",
   "metadata": {},
   "outputs": [
    {
     "data": {
      "text/plain": [
       "array(['00', '000', '0001', '000bn', '000m', '000th', '001', '001and',\n",
       "       '001st', '0051', '007', '01', '0100', '0130', '028', '03', '033',\n",
       "       '04', '0400', '041', '04bn', '04secs', '05', '050', '050505',\n",
       "       '0530', '0530gmt', '056', '05bn', '05m'], dtype=object)"
      ]
     },
     "metadata": {},
     "output_type": "display_data"
    }
   ],
   "source": [
    "#Let's start with the default and explore the properties before making the restricted vectorized matrix\n",
    "\n",
    "tfidf_def = TfidfVectorizer()\n",
    "tfidf_mat_def = tfidf_def.fit_transform(bbc_train.Text).toarray()\n",
    "words_def = tfidf_def.get_feature_names_out()\n",
    "\n",
    "display(words_def[:30])"
   ]
  },
  {
   "cell_type": "code",
   "execution_count": 241,
   "id": "1095f953",
   "metadata": {},
   "outputs": [
    {
     "data": {
      "text/plain": [
       "array(['aa', 'aaa', 'aaas', ..., 'zurich', 'zutons', 'zvonareva'],\n",
       "      dtype=object)"
      ]
     },
     "metadata": {},
     "output_type": "display_data"
    }
   ],
   "source": [
    "#It seems like there are 'words' that are really just numbers. I don't want to include these in the dataset\n",
    "#to remove them, I'll make a list of them and pass it as a parameter to the bbc_train_def model.\n",
    "\n",
    "noNum_words = [col for col in words_def if any(char.isdigit() for char in col)]\n",
    "#display(noNum_words[:30])  #works\n",
    "\n",
    "#create new vectorized matrix without numeric 'words'\n",
    "tfidf_def = TfidfVectorizer(stop_words=noNum_words)\n",
    "tfidf_mat_def = tfidf_def.fit_transform(bbc_train.Text).toarray()\n",
    "display(tfidf_def.get_feature_names_out())  #nice, no more words that have numbers are included."
   ]
  },
  {
   "cell_type": "code",
   "execution_count": 242,
   "id": "7a1729a3",
   "metadata": {},
   "outputs": [
    {
     "data": {
      "text/plain": [
       "array(['aa', 'aaa', 'aaas', ..., 'zurich', 'zutons', 'zvonareva'],\n",
       "      dtype=object)"
      ]
     },
     "metadata": {},
     "output_type": "display_data"
    }
   ],
   "source": [
    "#let's make the count vector matrix default\n",
    "countVec_def = CountVectorizer(stop_words=noNum_words)\n",
    "countVec_matrix_def = countVec_def.fit_transform(bbc_train.Text).toarray()\n",
    "\n",
    "display(countVec_def.get_feature_names_out())"
   ]
  },
  {
   "cell_type": "code",
   "execution_count": 259,
   "id": "2a24f33c",
   "metadata": {},
   "outputs": [],
   "source": [
    "#Lastly, the restricted parameter vectorized matrices\n",
    "#For stop words, I will create a list of words that include the words in the 'english' list of stop words\n",
    "#and the noNum_words so that the resulting list of words does not have either of those. \n",
    "\n",
    "#get the words from the enlgish stop words list\n",
    "temp_rstrct = TfidfVectorizer(stop_words='english')\n",
    "english_list = list(temp_rstrct.get_stop_words())\n",
    "#display(english_list) #works\n",
    "english_list = english_list + noNum_words\n",
    "#display(english_list) #works\n",
    "\n",
    "\n",
    "tfidf_rstrct = TfidfVectorizer(sublinear_tf=True, stop_words=english_list)\n",
    "tfidf_mat_rstrct = tfidf_rstrct.fit_transform(bbc_train.Text).toarray()\n",
    "\n",
    "countVec_rstrct = CountVectorizer(stop_words=english_list)\n",
    "countVec_matrix_rstrct = countVec_rstrct.fit_transform(bbc_train.Text).toarray()\n",
    "#display(countVec_rstrct.get_feature_names_out()) #works!\n"
   ]
  },
  {
   "cell_type": "code",
   "execution_count": 279,
   "id": "14203484",
   "metadata": {},
   "outputs": [
    {
     "name": "stderr",
     "output_type": "stream",
     "text": [
      "/home/pao/.local/lib/python3.10/site-packages/sklearn/cluster/_kmeans.py:1416: FutureWarning: The default value of `n_init` will change from 10 to 'auto' in 1.4. Set the value of `n_init` explicitly to suppress the warning\n",
      "  super()._check_params_vs_input(X, default_n_init=10)\n"
     ]
    },
    {
     "data": {
      "image/png": "[encoded data removed]",
      "text/plain": [
       "<Figure size 432x432 with 1 Axes>"
      ]
     },
     "metadata": {
      "needs_background": "light"
     },
     "output_type": "display_data"
    },
    {
     "name": "stderr",
     "output_type": "stream",
     "text": [
      "/home/pao/.local/lib/python3.10/site-packages/sklearn/cluster/_kmeans.py:1416: FutureWarning: The default value of `n_init` will change from 10 to 'auto' in 1.4. Set the value of `n_init` explicitly to suppress the warning\n",
      "  super()._check_params_vs_input(X, default_n_init=10)\n"
     ]
    },
    {
     "data": {
      "image/png": "[encoded data removed]",
      "text/plain": [
       "<Figure size 432x432 with 1 Axes>"
      ]
     },
     "metadata": {
      "needs_background": "light"
     },
     "output_type": "display_data"
    }
   ],
   "source": [
    "#Let's preprocess the data with PCA and graph the K-Means clustering to visualize what it looks like\n",
    "\n",
    "Vec_mat_tfidf = [tfidf_mat_def,tfidf_mat_rstrct]\n",
    "pca_mat_tfidf = []\n",
    "\n",
    "for matrix in Vec_mat_tfidf:\n",
    "    #Scale data\n",
    "    scaler = StandardScaler()\n",
    "    train_scaled = scaler.fit_transform(matrix)\n",
    "    #normalize data\n",
    "    train_normed = normalize(train_scaled)\n",
    "    train_normed = pd.DataFrame(train_normed)\n",
    "    pca = PCA(n_components = 2)\n",
    "    train_pca = pca.fit_transform(train_normed)\n",
    "    train_pca = pd.DataFrame(train_pca)\n",
    "    pca_mat_tfidf.append(train_pca)\n",
    "\n",
    "# Visualizing the clustering\n",
    "plt.figure(figsize =(6, 6))\n",
    "temp_pca=pca_mat_tfidf[0]\n",
    "plt.scatter(temp_pca[0],temp_pca[1],\n",
    "           c = KMeans(n_clusters=5).fit_predict(temp_pca), cmap ='rainbow')\n",
    "plt.title(\"tfidf_mat_def KMeans predictions\")\n",
    "plt.show()\n",
    "\n",
    "# Visualizing the clustering\n",
    "plt.figure(figsize =(6, 6))\n",
    "temp_pca=pca_mat_tfidf[1]\n",
    "plt.scatter(temp_pca[0],temp_pca[1],\n",
    "           c = KMeans(n_clusters=5).fit_predict(temp_pca), cmap ='rainbow')\n",
    "plt.title(\"tfidf_mat_rstrct KMeans predictions\")\n",
    "plt.show()\n",
    "\n",
    "\n",
    "####---- SAME GRAPHS BUT AGGLOMERATIVE CLUSTERING FOR MY OWN FUN --- \n",
    "\n",
    "#plt.figure(figsize =(6, 6))\n",
    "#temp_pca=pca_mat_tfidf[0]\n",
    "#plt.scatter(temp_pca[0],temp_pca[1],\n",
    "#           c = AgglomerativeClustering(n_clusters=5).fit_predict(temp_pca), cmap ='rainbow')\n",
    "#plt.title(\"tfidf_mat_def AgglomerativeClustering predictions\")\n",
    "#plt.show()\n",
    "\n",
    "\n",
    "#plt.figure(figsize =(6, 6))\n",
    "#temp_pca=pca_mat_tfidf[1]\n",
    "#plt.scatter(temp_pca[0],temp_pca[1],\n",
    "#           c = AgglomerativeClustering(n_clusters=5).fit_predict(temp_pca), cmap ='rainbow')\n",
    "#plt.title(\"tfidf_mat_rstrct AgglomerativeClustering predictions\")\n",
    "#plt.show()"
   ]
  },
  {
   "cell_type": "code",
   "execution_count": 280,
   "id": "a95c473c",
   "metadata": {},
   "outputs": [
    {
     "name": "stderr",
     "output_type": "stream",
     "text": [
      "/home/pao/.local/lib/python3.10/site-packages/sklearn/cluster/_kmeans.py:1416: FutureWarning: The default value of `n_init` will change from 10 to 'auto' in 1.4. Set the value of `n_init` explicitly to suppress the warning\n",
      "  super()._check_params_vs_input(X, default_n_init=10)\n"
     ]
    },
    {
     "data": {
      "image/png": "[encoded data removed]",
      "text/plain": [
       "<Figure size 432x432 with 1 Axes>"
      ]
     },
     "metadata": {
      "needs_background": "light"
     },
     "output_type": "display_data"
    },
    {
     "name": "stderr",
     "output_type": "stream",
     "text": [
      "/home/pao/.local/lib/python3.10/site-packages/sklearn/cluster/_kmeans.py:1416: FutureWarning: The default value of `n_init` will change from 10 to 'auto' in 1.4. Set the value of `n_init` explicitly to suppress the warning\n",
      "  super()._check_params_vs_input(X, default_n_init=10)\n"
     ]
    },
    {
     "data": {
      "image/png": "[encoded data removed]",
      "text/plain": [
       "<Figure size 432x432 with 1 Axes>"
      ]
     },
     "metadata": {
      "needs_background": "light"
     },
     "output_type": "display_data"
    }
   ],
   "source": [
    "#Let's preprocess the data with PCA and graph the K-Means clustering to visualize what it looks like\n",
    "\n",
    "Vec_mat_count = [countVec_matrix_def,countVec_matrix_rstrct]\n",
    "pca_mat_count = []\n",
    "\n",
    "for matrix in Vec_mat_count:\n",
    "    #Scale data\n",
    "    scaler = StandardScaler()\n",
    "    train_scaled = scaler.fit_transform(matrix)\n",
    "    #normalize data\n",
    "    train_normed = normalize(train_scaled)\n",
    "    train_normed = pd.DataFrame(train_normed)\n",
    "    pca = PCA(n_components = 2)\n",
    "    train_pca = pca.fit_transform(train_normed)\n",
    "    train_pca = pd.DataFrame(train_pca)\n",
    "    pca_mat_count.append(train_pca)\n",
    "\n",
    "# Visualizing the clustering\n",
    "plt.figure(figsize =(6, 6))\n",
    "temp_pca=pca_mat_count[0]\n",
    "plt.scatter(temp_pca[0],temp_pca[1],\n",
    "           c = KMeans(n_clusters=5).fit_predict(temp_pca), cmap ='rainbow')\n",
    "plt.title(\"countVec_matrix_def KMeans predictions\")\n",
    "plt.show()\n",
    "\n",
    "# Visualizing the clustering\n",
    "plt.figure(figsize =(6, 6))\n",
    "temp_pca=pca_mat_count[1]\n",
    "plt.scatter(temp_pca[0],temp_pca[1],\n",
    "           c = KMeans(n_clusters=5).fit_predict(temp_pca), cmap ='rainbow')\n",
    "plt.title(\"countVec_matrix_rstrct KMeans predictions\")\n",
    "plt.show()\n",
    "\n",
    "\n",
    "\n",
    "####---- SAME GRAPHS BUT AGGLOMERATIVE CLUSTERING FOR MY OWN FUN --- \n",
    "\n",
    "#plt.figure(figsize =(6, 6))\n",
    "#temp_pca=pca_mat_count[0]\n",
    "#plt.scatter(temp_pca[0],temp_pca[1],\n",
    "#           c = AgglomerativeClustering(n_clusters=5).fit_predict(temp_pca), cmap ='rainbow')\n",
    "#plt.title(\"countVec_matrix_def AgglomerativeClustering predictions\")\n",
    "#plt.show()\n",
    "\n",
    "#plt.figure(figsize =(6, 6))\n",
    "#temp_pca=pca_mat_count[1]\n",
    "#plt.scatter(temp_pca[0],temp_pca[1],\n",
    "#           c = AgglomerativeClustering(n_clusters=5).fit_predict(temp_pca), cmap ='rainbow')\n",
    "#plt.title(\"countVec_matrix_rstrct AgglomerativeClustering predictions\")\n",
    "#plt.show()\n",
    "\n"
   ]
  },
  {
   "cell_type": "markdown",
   "id": "1f2b0e4b",
   "metadata": {},
   "source": [
    "These cluster graphs were cool to look at and it seems that each category relatively has their own section or distinct grouping/area so the models might work well!\n",
    "\n",
    "However, I don't think we need to use all 4 vectorized matrices, so I'll stick with the TF-IDF Vectorization matrices. I feel with this approach of extracting latent factors will be more effective because TFiDF provides a frequency that is proportional to the total count of words in the text, and tends to be more robust than simple word count. \n",
    "\n",
    "Moving forward, I'll compare the two TFiDF vectorized matrices on every model to observe how the parameters used to vectorize the matrices affects the models. "
   ]
  },
  {
   "cell_type": "markdown",
   "id": "c6bc877e",
   "metadata": {},
   "source": [
    "## Building and training models\n",
    "\n",
    "For the models, I will use the TFiDF vectorized matrices and NOT the Count vectorized matrices. This is because with TFiDF, the extracted characteristics are more insightful about the topic of the text simply because the frequency of each word is related to the relevance to the topic. The higher frequency, the more relevant the word is. \n",
    "\n",
    "Of course, from this, we have to make sure we remove any words that are not actually telling us something about the text -- words like \"the\", \"a\", \"he\", \"they\", etc. To remove these words, I used the \"stop_words\" parameter on both of the vectorized matrices. \n",
    "\n",
    "I will create a dataframe with the **RESULTS** for reviewing and comparing the models at the end. \n",
    "\n",
    "The models will have different parameters, and those along with the accuracy score for the model will be added to the data frame. \n"
   ]
  },
  {
   "cell_type": "code",
   "execution_count": 294,
   "id": "9ad4c6f3",
   "metadata": {},
   "outputs": [],
   "source": [
    "#Let's bring in the function from week 2 that would iterate through all permutations of label assignment\n",
    "#to see which assignment of labels resulted in the highest accuracy. \n",
    "\n",
    "import itertools\n",
    "\n",
    "def label_permute_compare(true_labels,yp,n=4):\n",
    "    unique_labels = np.unique(true_labels) #find unique labels\n",
    "\n",
    "    best_accuracy = 0\n",
    "    best_permutation = None\n",
    "    \n",
    "    #Go through each possible permutation of labels to see which one has best accuracy\n",
    "    for permuted_labels in itertools.permutations(unique_labels):\n",
    "        # Map the permutation to a dictionary for easy replacement\n",
    "        label_map = {label: permuted_labels[i] for i, label in enumerate(unique_labels)}\n",
    "        \n",
    "        # Permute the predicted labels based on the current mapping permutation\n",
    "        permuted_yp = [label_map[label] for label in yp]\n",
    "        \n",
    "        # Calculate accuracy for this permutation\n",
    "        accuracy = accuracy_score(true_labels, permuted_yp)\n",
    "        \n",
    "        # Update the best accuracy and permutation if this one is better\n",
    "        if accuracy > best_accuracy:\n",
    "            best_accuracy = accuracy\n",
    "            best_permutation = permuted_labels\n",
    "    \n",
    "    return best_permutation, best_accuracy\n"
   ]
  },
  {
   "cell_type": "code",
   "execution_count": 393,
   "id": "aaf79099",
   "metadata": {},
   "outputs": [],
   "source": [
    "#This data frame will hold all the values needed to compare the models \n",
    "Model_comparison_def = pd.DataFrame(columns=['Model','Label_order','Accuracy_score'])\n",
    "Model_comparison_rstrct = pd.DataFrame(columns=['Model','Label_order','Accuracy_score'])\n"
   ]
  },
  {
   "cell_type": "code",
   "execution_count": 391,
   "id": "adf41a93",
   "metadata": {},
   "outputs": [],
   "source": [
    "#I'm going to use Truncated SVD to reduce dimensionality and then pass this into the Clustering Models.\n",
    "\n",
    "tfidf_mat_def = tfidf_def.fit_transform(bbc_train.Text)\n",
    "svd_def = TruncatedSVD(n_components= 5)\n",
    "svd_def_mod= svd_def.fit_transform(tfidf_mat_def)\n",
    "#svd_def_comp = svd_def.components_\n",
    "\n",
    "\n",
    "tfidf_mat_rstrct = tfidf_rstrct.fit_transform(bbc_train.Text)\n",
    "svd_rstrct = TruncatedSVD(n_components=5)\n",
    "svd_rstrct_mod = svd_rstrct.fit_transform(tfidf_mat_rstrct)\n",
    "#svd_rstrct_comp = svd_rstrct.components_\n",
    "\n"
   ]
  },
  {
   "cell_type": "code",
   "execution_count": 394,
   "id": "99c9628f",
   "metadata": {},
   "outputs": [],
   "source": [
    "### With default vectorized Matrix\n",
    "\n",
    "#### Model 1 = Cosine/Average\n",
    "Model_1_def = AgglomerativeClustering(n_clusters=5,metric='cosine',linkage='average').fit(svd_def_mod)\n",
    "#print(accuracy_score(num_true_labels,Model_1.labels_))\n",
    "label_perm, acc_score = label_permute_compare(num_true_labels,Model_1_def.labels_)\n",
    "#print(label_perm, acc_score)\n",
    "Model_comparison_def.loc[len(Model_comparison_def.index)] = ['Cluster (SVD) - Cos/Avg',label_perm, acc_score ]\n",
    "\n",
    "\n",
    "### Model 2 = Cosine/Complete\n",
    "Model_2_def = AgglomerativeClustering(n_clusters=5,metric='cosine',linkage='complete').fit(svd_def_mod)\n",
    "#print(accuracy_score(num_true_labels,Model_2.labels_))\n",
    "label_perm, acc_score = label_permute_compare(num_true_labels,Model_2_def.labels_)\n",
    "#print(label_perm, acc_score)\n",
    "Model_comparison_def.loc[len(Model_comparison_def.index)] = ['Cluster (SVD) - Cos/Com',label_perm, acc_score ]\n",
    "\n",
    "\n",
    "### Model 3 = Euclidean/Ward\n",
    "Model_3 = AgglomerativeClustering(n_clusters=5,metric='euclidean',linkage='ward').fit(svd_def_mod)\n",
    "#print(accuracy_score(num_true_labels,Model_3.labels_))\n",
    "label_perm, acc_score = label_permute_compare(num_true_labels,Model_3.labels_)\n",
    "#print(label_perm, acc_score)\n",
    "Model_comparison_def.loc[len(Model_comparison_def.index)] = ['Cluster (SVD) - Euc/Ward',label_perm, acc_score ]\n",
    "\n",
    "\n",
    "### Model_4 = Euclidean/Average\n",
    "Model_4 = AgglomerativeClustering(n_clusters=5,metric='euclidean',linkage='average').fit(svd_def_mod)\n",
    "#print(accuracy_score(num_true_labels,Model_4.labels_))\n",
    "label_perm, acc_score = label_permute_compare(num_true_labels,Model_4.labels_)\n",
    "#print(label_perm, acc_score)\n",
    "Model_comparison_def.loc[len(Model_comparison_def.index)] = ['Cluster (SVD) - Euc/Avg',label_perm, acc_score ]\n"
   ]
  },
  {
   "cell_type": "code",
   "execution_count": 395,
   "id": "f49d8d77",
   "metadata": {},
   "outputs": [],
   "source": [
    "### With Rstrct vectorized matrix\n",
    "\n",
    "#### Model 1 = Cosine/Average\n",
    "Model_1_def = AgglomerativeClustering(n_clusters=5,metric='cosine',linkage='average').fit(svd_rstrct_mod)\n",
    "label_perm, acc_score = label_permute_compare(num_true_labels,Model_1_def.labels_)\n",
    "Model_comparison_rstrct.loc[len(Model_comparison_rstrct.index)] = ['Cluster (SVD) - Cos/Avg',label_perm, acc_score ]\n",
    "\n",
    "\n",
    "### Model 2 = Cosine/Complete\n",
    "Model_2_def = AgglomerativeClustering(n_clusters=5,metric='cosine',linkage='complete').fit(svd_rstrct_mod)\n",
    "label_perm, acc_score = label_permute_compare(num_true_labels,Model_2_def.labels_)\n",
    "Model_comparison_rstrct.loc[len(Model_comparison_rstrct.index)] = ['Cluster (SVD) - Cos/Com',label_perm, acc_score ]\n",
    "\n",
    "\n",
    "### Model 3 = Euclidean/Ward\n",
    "Model_3 = AgglomerativeClustering(n_clusters=5,metric='euclidean',linkage='ward').fit(svd_rstrct_mod)\n",
    "label_perm, acc_score = label_permute_compare(num_true_labels,Model_3.labels_)\n",
    "Model_comparison_rstrct.loc[len(Model_comparison_rstrct.index)] = ['Cluster (SVD) - Euc/Ward',label_perm, acc_score ]\n",
    "\n",
    "\n",
    "### Model_4 = Euclidean/Average\n",
    "Model_4 = AgglomerativeClustering(n_clusters=5,metric='euclidean',linkage='average').fit(svd_rstrct_mod)\n",
    "label_perm, acc_score = label_permute_compare(num_true_labels,Model_4.labels_)\n",
    "Model_comparison_rstrct.loc[len(Model_comparison_rstrct.index)] = ['Cluster (SVD) - Euc/Avg',label_perm, acc_score ]\n"
   ]
  },
  {
   "cell_type": "code",
   "execution_count": 397,
   "id": "8f1d1124",
   "metadata": {},
   "outputs": [
    {
     "data": {
      "text/html": [
       "<div>\n",
       "<style scoped>\n",
       "    .dataframe tbody tr th:only-of-type {\n",
       "        vertical-align: middle;\n",
       "    }\n",
       "\n",
       "    .dataframe tbody tr th {\n",
       "        vertical-align: top;\n",
       "    }\n",
       "\n",
       "    .dataframe thead th {\n",
       "        text-align: right;\n",
       "    }\n",
       "</style>\n",
       "<table border=\"1\" class=\"dataframe\">\n",
       "  <thead>\n",
       "    <tr style=\"text-align: right;\">\n",
       "      <th></th>\n",
       "      <th>Model</th>\n",
       "      <th>Label_order</th>\n",
       "      <th>Accuracy_score</th>\n",
       "    </tr>\n",
       "  </thead>\n",
       "  <tbody>\n",
       "    <tr>\n",
       "      <th>0</th>\n",
       "      <td>Cluster (SVD) - Cos/Avg</td>\n",
       "      <td>(3, 2, 0, 4, 1)</td>\n",
       "      <td>0.779866</td>\n",
       "    </tr>\n",
       "    <tr>\n",
       "      <th>1</th>\n",
       "      <td>Cluster (SVD) - Cos/Com</td>\n",
       "      <td>(0, 4, 3, 2, 1)</td>\n",
       "      <td>0.824832</td>\n",
       "    </tr>\n",
       "    <tr>\n",
       "      <th>2</th>\n",
       "      <td>Cluster (SVD) - Euc/Ward</td>\n",
       "      <td>(2, 0, 4, 1, 3)</td>\n",
       "      <td>0.875839</td>\n",
       "    </tr>\n",
       "    <tr>\n",
       "      <th>3</th>\n",
       "      <td>Cluster (SVD) - Euc/Avg</td>\n",
       "      <td>(3, 2, 4, 0, 1)</td>\n",
       "      <td>0.432886</td>\n",
       "    </tr>\n",
       "  </tbody>\n",
       "</table>\n",
       "</div>"
      ],
      "text/plain": [
       "                      Model      Label_order  Accuracy_score\n",
       "0   Cluster (SVD) - Cos/Avg  (3, 2, 0, 4, 1)        0.779866\n",
       "1   Cluster (SVD) - Cos/Com  (0, 4, 3, 2, 1)        0.824832\n",
       "2  Cluster (SVD) - Euc/Ward  (2, 0, 4, 1, 3)        0.875839\n",
       "3   Cluster (SVD) - Euc/Avg  (3, 2, 4, 0, 1)        0.432886"
      ]
     },
     "metadata": {},
     "output_type": "display_data"
    },
    {
     "data": {
      "text/html": [
       "<div>\n",
       "<style scoped>\n",
       "    .dataframe tbody tr th:only-of-type {\n",
       "        vertical-align: middle;\n",
       "    }\n",
       "\n",
       "    .dataframe tbody tr th {\n",
       "        vertical-align: top;\n",
       "    }\n",
       "\n",
       "    .dataframe thead th {\n",
       "        text-align: right;\n",
       "    }\n",
       "</style>\n",
       "<table border=\"1\" class=\"dataframe\">\n",
       "  <thead>\n",
       "    <tr style=\"text-align: right;\">\n",
       "      <th></th>\n",
       "      <th>Model</th>\n",
       "      <th>Label_order</th>\n",
       "      <th>Accuracy_score</th>\n",
       "    </tr>\n",
       "  </thead>\n",
       "  <tbody>\n",
       "    <tr>\n",
       "      <th>0</th>\n",
       "      <td>Cluster (SVD) - Cos/Avg</td>\n",
       "      <td>(4, 1, 3, 0, 2)</td>\n",
       "      <td>0.954362</td>\n",
       "    </tr>\n",
       "    <tr>\n",
       "      <th>1</th>\n",
       "      <td>Cluster (SVD) - Cos/Com</td>\n",
       "      <td>(2, 4, 1, 0, 3)</td>\n",
       "      <td>0.917450</td>\n",
       "    </tr>\n",
       "    <tr>\n",
       "      <th>2</th>\n",
       "      <td>Cluster (SVD) - Euc/Ward</td>\n",
       "      <td>(4, 0, 2, 3, 1)</td>\n",
       "      <td>0.932215</td>\n",
       "    </tr>\n",
       "    <tr>\n",
       "      <th>3</th>\n",
       "      <td>Cluster (SVD) - Euc/Avg</td>\n",
       "      <td>(2, 0, 3, 4, 1)</td>\n",
       "      <td>0.796644</td>\n",
       "    </tr>\n",
       "  </tbody>\n",
       "</table>\n",
       "</div>"
      ],
      "text/plain": [
       "                      Model      Label_order  Accuracy_score\n",
       "0   Cluster (SVD) - Cos/Avg  (4, 1, 3, 0, 2)        0.954362\n",
       "1   Cluster (SVD) - Cos/Com  (2, 4, 1, 0, 3)        0.917450\n",
       "2  Cluster (SVD) - Euc/Ward  (4, 0, 2, 3, 1)        0.932215\n",
       "3   Cluster (SVD) - Euc/Avg  (2, 0, 3, 4, 1)        0.796644"
      ]
     },
     "metadata": {},
     "output_type": "display_data"
    }
   ],
   "source": [
    "display(Model_comparison_def)\n",
    "display(Model_comparison_rstrct)\n"
   ]
  },
  {
   "cell_type": "code",
   "execution_count": 398,
   "id": "c2168ef9",
   "metadata": {},
   "outputs": [
    {
     "name": "stderr",
     "output_type": "stream",
     "text": [
      "/home/pao/.local/lib/python3.10/site-packages/sklearn/decomposition/_nmf.py:1561: UserWarning: The multiplicative update ('mu') solver cannot update zeros present in the initialization, and so leads to poorer results when used jointly with init='nndsvd'. You may try init='nndsvda' or init='nndsvdar' instead.\n",
      "  warnings.warn(\n",
      "/home/pao/.local/lib/python3.10/site-packages/sklearn/decomposition/_nmf.py:1561: UserWarning: The multiplicative update ('mu') solver cannot update zeros present in the initialization, and so leads to poorer results when used jointly with init='nndsvd'. You may try init='nndsvda' or init='nndsvdar' instead.\n",
      "  warnings.warn(\n"
     ]
    }
   ],
   "source": [
    "#Let's look at the NonNegative Matrix Factorization Model\n",
    "\n",
    "#Default vectorized data, Frobenius beta loss\n",
    "nmf_def_frob = NMF(n_components = 5, \n",
    "           init = 'nndsvd', \n",
    "           solver = 'cd', \n",
    "           beta_loss ='frobenius', \n",
    "           random_state =10)\n",
    "nmf_def_Fbmod = nmf_def_frob.fit_transform(tfidf_mat_def) \n",
    "nmf_def_Fbmod_comp = nmf_def_frob.components_\n",
    "predicted_labels = np.argmax(nmf_def_Fbmod, axis=1) \n",
    "label_perm, acc_score = label_permute_compare(num_true_labels,predicted_labels)\n",
    "Model_comparison_def.loc[len(Model_comparison_def.index)] = ['NMF - Frobenius',label_perm, acc_score ]\n",
    "\n",
    "\n",
    "\n",
    "#Default vectorized data, KL beta loss\n",
    "nmf_def_KL = NMF(n_components = 5, \n",
    "           init = 'nndsvd', \n",
    "            solver = 'mu', \n",
    "            beta_loss ='kullback-leibler',  \n",
    "           random_state =10)\n",
    "nmf_def_KLmod= nmf_def_KL.fit_transform(tfidf_mat_def) \n",
    "nmf_def_KLmod_comp = nmf_def_KL.components_\n",
    "predicted_labels = np.argmax(nmf_def_KLmod, axis=1) \n",
    "label_perm, acc_score = label_permute_compare(num_true_labels,predicted_labels)\n",
    "Model_comparison_def.loc[len(Model_comparison_def.index)] = ['NMF - KL',label_perm, acc_score ]\n",
    "\n",
    "\n",
    "\n",
    "#Restricted vectorized data, Frobenius beta loss\n",
    "nmf_rstrct_frob = NMF(n_components = 5, \n",
    "           init = 'nndsvd', \n",
    "           solver = 'cd', \n",
    "           beta_loss ='frobenius', \n",
    "           random_state =10)\n",
    "nmf_rstrct_Fbmod = nmf_rstrct_frob.fit_transform(tfidf_mat_rstrct) \n",
    "nmf_rstrct_Fbmod_comp = nmf_rstrct_frob.components_\n",
    "predicted_labels = np.argmax(nmf_rstrct_Fbmod, axis=1) \n",
    "label_perm, acc_score = label_permute_compare(num_true_labels,predicted_labels)\n",
    "Model_comparison_rstrct.loc[len(Model_comparison_rstrct.index)] = ['NMF - Frobenius',label_perm, acc_score ]\n",
    "\n",
    "\n",
    "#Restricted vectorized data, KL beta loss\n",
    "nmf_rstrct_KL = NMF(n_components = 5, \n",
    "           init = 'nndsvd', \n",
    "            solver = 'mu', \n",
    "            beta_loss ='kullback-leibler',  \n",
    "           random_state =10)\n",
    "nmf_rstrct_KLmod = nmf_rstrct_KL.fit_transform(tfidf_mat_rstrct) \n",
    "nmf_rstrct_KLmod_comp = nmf_rstrct_KL.components_\n",
    "predicted_labels = np.argmax(nmf_rstrct_KLmod, axis=1) \n",
    "label_perm, acc_score = label_permute_compare(num_true_labels,predicted_labels)\n",
    "Model_comparison_rstrct.loc[len(Model_comparison_rstrct.index)] = ['NMF - KL',label_perm, acc_score ]\n"
   ]
  },
  {
   "cell_type": "code",
   "execution_count": 399,
   "id": "fd239b2f",
   "metadata": {},
   "outputs": [
    {
     "data": {
      "text/html": [
       "<div>\n",
       "<style scoped>\n",
       "    .dataframe tbody tr th:only-of-type {\n",
       "        vertical-align: middle;\n",
       "    }\n",
       "\n",
       "    .dataframe tbody tr th {\n",
       "        vertical-align: top;\n",
       "    }\n",
       "\n",
       "    .dataframe thead th {\n",
       "        text-align: right;\n",
       "    }\n",
       "</style>\n",
       "<table border=\"1\" class=\"dataframe\">\n",
       "  <thead>\n",
       "    <tr style=\"text-align: right;\">\n",
       "      <th></th>\n",
       "      <th>Model</th>\n",
       "      <th>Label_order</th>\n",
       "      <th>Accuracy_score</th>\n",
       "    </tr>\n",
       "  </thead>\n",
       "  <tbody>\n",
       "    <tr>\n",
       "      <th>0</th>\n",
       "      <td>Cluster (SVD) - Cos/Avg</td>\n",
       "      <td>(3, 2, 0, 4, 1)</td>\n",
       "      <td>0.779866</td>\n",
       "    </tr>\n",
       "    <tr>\n",
       "      <th>1</th>\n",
       "      <td>Cluster (SVD) - Cos/Com</td>\n",
       "      <td>(0, 4, 3, 2, 1)</td>\n",
       "      <td>0.824832</td>\n",
       "    </tr>\n",
       "    <tr>\n",
       "      <th>2</th>\n",
       "      <td>Cluster (SVD) - Euc/Ward</td>\n",
       "      <td>(2, 0, 4, 1, 3)</td>\n",
       "      <td>0.875839</td>\n",
       "    </tr>\n",
       "    <tr>\n",
       "      <th>3</th>\n",
       "      <td>Cluster (SVD) - Euc/Avg</td>\n",
       "      <td>(3, 2, 4, 0, 1)</td>\n",
       "      <td>0.432886</td>\n",
       "    </tr>\n",
       "    <tr>\n",
       "      <th>4</th>\n",
       "      <td>NMF - Frobenius</td>\n",
       "      <td>(0, 2, 3, 4, 1)</td>\n",
       "      <td>0.874497</td>\n",
       "    </tr>\n",
       "    <tr>\n",
       "      <th>5</th>\n",
       "      <td>NMF - KL</td>\n",
       "      <td>(0, 2, 3, 4, 1)</td>\n",
       "      <td>0.904698</td>\n",
       "    </tr>\n",
       "  </tbody>\n",
       "</table>\n",
       "</div>"
      ],
      "text/plain": [
       "                      Model      Label_order  Accuracy_score\n",
       "0   Cluster (SVD) - Cos/Avg  (3, 2, 0, 4, 1)        0.779866\n",
       "1   Cluster (SVD) - Cos/Com  (0, 4, 3, 2, 1)        0.824832\n",
       "2  Cluster (SVD) - Euc/Ward  (2, 0, 4, 1, 3)        0.875839\n",
       "3   Cluster (SVD) - Euc/Avg  (3, 2, 4, 0, 1)        0.432886\n",
       "4           NMF - Frobenius  (0, 2, 3, 4, 1)        0.874497\n",
       "5                  NMF - KL  (0, 2, 3, 4, 1)        0.904698"
      ]
     },
     "metadata": {},
     "output_type": "display_data"
    },
    {
     "data": {
      "text/html": [
       "<div>\n",
       "<style scoped>\n",
       "    .dataframe tbody tr th:only-of-type {\n",
       "        vertical-align: middle;\n",
       "    }\n",
       "\n",
       "    .dataframe tbody tr th {\n",
       "        vertical-align: top;\n",
       "    }\n",
       "\n",
       "    .dataframe thead th {\n",
       "        text-align: right;\n",
       "    }\n",
       "</style>\n",
       "<table border=\"1\" class=\"dataframe\">\n",
       "  <thead>\n",
       "    <tr style=\"text-align: right;\">\n",
       "      <th></th>\n",
       "      <th>Model</th>\n",
       "      <th>Label_order</th>\n",
       "      <th>Accuracy_score</th>\n",
       "    </tr>\n",
       "  </thead>\n",
       "  <tbody>\n",
       "    <tr>\n",
       "      <th>0</th>\n",
       "      <td>Cluster (SVD) - Cos/Avg</td>\n",
       "      <td>(4, 1, 3, 0, 2)</td>\n",
       "      <td>0.954362</td>\n",
       "    </tr>\n",
       "    <tr>\n",
       "      <th>1</th>\n",
       "      <td>Cluster (SVD) - Cos/Com</td>\n",
       "      <td>(2, 4, 1, 0, 3)</td>\n",
       "      <td>0.917450</td>\n",
       "    </tr>\n",
       "    <tr>\n",
       "      <th>2</th>\n",
       "      <td>Cluster (SVD) - Euc/Ward</td>\n",
       "      <td>(4, 0, 2, 3, 1)</td>\n",
       "      <td>0.932215</td>\n",
       "    </tr>\n",
       "    <tr>\n",
       "      <th>3</th>\n",
       "      <td>Cluster (SVD) - Euc/Avg</td>\n",
       "      <td>(2, 0, 3, 4, 1)</td>\n",
       "      <td>0.796644</td>\n",
       "    </tr>\n",
       "    <tr>\n",
       "      <th>4</th>\n",
       "      <td>NMF - Frobenius</td>\n",
       "      <td>(2, 3, 1, 4, 0)</td>\n",
       "      <td>0.941611</td>\n",
       "    </tr>\n",
       "    <tr>\n",
       "      <th>5</th>\n",
       "      <td>NMF - KL</td>\n",
       "      <td>(2, 3, 1, 4, 0)</td>\n",
       "      <td>0.921477</td>\n",
       "    </tr>\n",
       "  </tbody>\n",
       "</table>\n",
       "</div>"
      ],
      "text/plain": [
       "                      Model      Label_order  Accuracy_score\n",
       "0   Cluster (SVD) - Cos/Avg  (4, 1, 3, 0, 2)        0.954362\n",
       "1   Cluster (SVD) - Cos/Com  (2, 4, 1, 0, 3)        0.917450\n",
       "2  Cluster (SVD) - Euc/Ward  (4, 0, 2, 3, 1)        0.932215\n",
       "3   Cluster (SVD) - Euc/Avg  (2, 0, 3, 4, 1)        0.796644\n",
       "4           NMF - Frobenius  (2, 3, 1, 4, 0)        0.941611\n",
       "5                  NMF - KL  (2, 3, 1, 4, 0)        0.921477"
      ]
     },
     "metadata": {},
     "output_type": "display_data"
    }
   ],
   "source": [
    "display(Model_comparison_def)\n",
    "display(Model_comparison_rstrct)"
   ]
  },
  {
   "cell_type": "markdown",
   "id": "6d455b15",
   "metadata": {},
   "source": [
    "## Compare with supervised learning \n",
    "\n",
    "Use the following steps to guide your work:\n",
    "\n",
    "1) Pick and train a supervised learning method(s) and compare the results (train and test performance)\n",
    "2) Discuss comparison with the unsupervised approach. You may try changing the train data size (e.g., Include only 10%, 20%, 50% of labels, and observe train/test performance changes). Which methods are data-efficient (require a smaller amount of data to achieve similar results)? What about overfitting?"
   ]
  },
  {
   "cell_type": "code",
   "execution_count": 403,
   "id": "34f611a5",
   "metadata": {},
   "outputs": [],
   "source": [
    "#I'll be using Decision Tree classifier to compare to my models \n",
    "\n",
    "#Default TFiDF Vec\n",
    "X_train_def, X_test_def, y_train_def, y_test_def = train_test_split(tfidf_mat_def, labels, test_size=0.2, random_state=10)\n",
    "tree_class_def = DecisionTreeClassifier(random_state=10)\n",
    "tree_class_def.fit(X_train_def, y_train_def)\n",
    "y_pred_def = tree_class_def.predict(X_test_def)\n",
    "\n",
    "\n",
    "#Restricted TFiDF Vec \n",
    "X_train_rstrct, X_test_rstrct, y_train_rstrct, y_test_rstrct = train_test_split(tfidf_mat_rstrct, labels, test_size=0.20, random_state=10)\n",
    "tree_class_rstrct = DecisionTreeClassifier(random_state=10)\n",
    "tree_class_rstrct.fit(X_train_rstrct, y_train_rstrct)\n",
    "y_pred_rstrct = tree_class_rstrct.predict(X_test_rstrct)\n",
    "\n"
   ]
  },
  {
   "cell_type": "code",
   "execution_count": 408,
   "id": "3d134435",
   "metadata": {},
   "outputs": [],
   "source": [
    "accuracy_def = accuracy_score(y_test_def, y_pred_def)\n",
    "#print(\"Decision Tree Def Acc: \", accuracy_def)\n",
    "label_perm, acc_score = label_permute_compare(y_test_def,y_pred_def)\n",
    "#print(label_perm, acc_score )\n",
    "Model_comparison_def.loc[len(Model_comparison_def.index)] = ['Decision Tree',label_perm, acc_score ]\n",
    "\n",
    "\n",
    "accuracy_rstrct = accuracy_score(y_test_rstrct, y_pred_rstrct)\n",
    "#print(\"Decision Tree Rstrct Acc: \", accuracy_rstrct)\n",
    "label_perm, acc_score = label_permute_compare(y_test_rstrct,y_pred_rstrct)\n",
    "#print(label_perm, acc_score )\n",
    "Model_comparison_rstrct.loc[len(Model_comparison_rstrct.index)] = ['Decision Tree',label_perm, acc_score ]\n"
   ]
  },
  {
   "cell_type": "markdown",
   "id": "25b8d7a5",
   "metadata": {},
   "source": [
    "## Results"
   ]
  },
  {
   "cell_type": "code",
   "execution_count": 409,
   "id": "a8bb9f16",
   "metadata": {},
   "outputs": [
    {
     "data": {
      "text/html": [
       "<div>\n",
       "<style scoped>\n",
       "    .dataframe tbody tr th:only-of-type {\n",
       "        vertical-align: middle;\n",
       "    }\n",
       "\n",
       "    .dataframe tbody tr th {\n",
       "        vertical-align: top;\n",
       "    }\n",
       "\n",
       "    .dataframe thead th {\n",
       "        text-align: right;\n",
       "    }\n",
       "</style>\n",
       "<table border=\"1\" class=\"dataframe\">\n",
       "  <thead>\n",
       "    <tr style=\"text-align: right;\">\n",
       "      <th></th>\n",
       "      <th>Model</th>\n",
       "      <th>Label_order</th>\n",
       "      <th>Accuracy_score</th>\n",
       "    </tr>\n",
       "  </thead>\n",
       "  <tbody>\n",
       "    <tr>\n",
       "      <th>0</th>\n",
       "      <td>Cluster (SVD) - Cos/Avg</td>\n",
       "      <td>(3, 2, 0, 4, 1)</td>\n",
       "      <td>0.779866</td>\n",
       "    </tr>\n",
       "    <tr>\n",
       "      <th>1</th>\n",
       "      <td>Cluster (SVD) - Cos/Com</td>\n",
       "      <td>(0, 4, 3, 2, 1)</td>\n",
       "      <td>0.824832</td>\n",
       "    </tr>\n",
       "    <tr>\n",
       "      <th>2</th>\n",
       "      <td>Cluster (SVD) - Euc/Ward</td>\n",
       "      <td>(2, 0, 4, 1, 3)</td>\n",
       "      <td>0.875839</td>\n",
       "    </tr>\n",
       "    <tr>\n",
       "      <th>3</th>\n",
       "      <td>Cluster (SVD) - Euc/Avg</td>\n",
       "      <td>(3, 2, 4, 0, 1)</td>\n",
       "      <td>0.432886</td>\n",
       "    </tr>\n",
       "    <tr>\n",
       "      <th>4</th>\n",
       "      <td>NMF - Frobenius</td>\n",
       "      <td>(0, 2, 3, 4, 1)</td>\n",
       "      <td>0.874497</td>\n",
       "    </tr>\n",
       "    <tr>\n",
       "      <th>5</th>\n",
       "      <td>NMF - KL</td>\n",
       "      <td>(0, 2, 3, 4, 1)</td>\n",
       "      <td>0.904698</td>\n",
       "    </tr>\n",
       "    <tr>\n",
       "      <th>6</th>\n",
       "      <td>Decision Tree</td>\n",
       "      <td>(0, 1, 2, 3, 4)</td>\n",
       "      <td>0.791946</td>\n",
       "    </tr>\n",
       "  </tbody>\n",
       "</table>\n",
       "</div>"
      ],
      "text/plain": [
       "                      Model      Label_order  Accuracy_score\n",
       "0   Cluster (SVD) - Cos/Avg  (3, 2, 0, 4, 1)        0.779866\n",
       "1   Cluster (SVD) - Cos/Com  (0, 4, 3, 2, 1)        0.824832\n",
       "2  Cluster (SVD) - Euc/Ward  (2, 0, 4, 1, 3)        0.875839\n",
       "3   Cluster (SVD) - Euc/Avg  (3, 2, 4, 0, 1)        0.432886\n",
       "4           NMF - Frobenius  (0, 2, 3, 4, 1)        0.874497\n",
       "5                  NMF - KL  (0, 2, 3, 4, 1)        0.904698\n",
       "6             Decision Tree  (0, 1, 2, 3, 4)        0.791946"
      ]
     },
     "execution_count": 409,
     "metadata": {},
     "output_type": "execute_result"
    }
   ],
   "source": [
    "Model_comparison_def"
   ]
  },
  {
   "cell_type": "code",
   "execution_count": 410,
   "id": "fb040a42",
   "metadata": {},
   "outputs": [
    {
     "data": {
      "text/html": [
       "<div>\n",
       "<style scoped>\n",
       "    .dataframe tbody tr th:only-of-type {\n",
       "        vertical-align: middle;\n",
       "    }\n",
       "\n",
       "    .dataframe tbody tr th {\n",
       "        vertical-align: top;\n",
       "    }\n",
       "\n",
       "    .dataframe thead th {\n",
       "        text-align: right;\n",
       "    }\n",
       "</style>\n",
       "<table border=\"1\" class=\"dataframe\">\n",
       "  <thead>\n",
       "    <tr style=\"text-align: right;\">\n",
       "      <th></th>\n",
       "      <th>Model</th>\n",
       "      <th>Label_order</th>\n",
       "      <th>Accuracy_score</th>\n",
       "    </tr>\n",
       "  </thead>\n",
       "  <tbody>\n",
       "    <tr>\n",
       "      <th>0</th>\n",
       "      <td>Cluster (SVD) - Cos/Avg</td>\n",
       "      <td>(4, 1, 3, 0, 2)</td>\n",
       "      <td>0.954362</td>\n",
       "    </tr>\n",
       "    <tr>\n",
       "      <th>1</th>\n",
       "      <td>Cluster (SVD) - Cos/Com</td>\n",
       "      <td>(2, 4, 1, 0, 3)</td>\n",
       "      <td>0.917450</td>\n",
       "    </tr>\n",
       "    <tr>\n",
       "      <th>2</th>\n",
       "      <td>Cluster (SVD) - Euc/Ward</td>\n",
       "      <td>(4, 0, 2, 3, 1)</td>\n",
       "      <td>0.932215</td>\n",
       "    </tr>\n",
       "    <tr>\n",
       "      <th>3</th>\n",
       "      <td>Cluster (SVD) - Euc/Avg</td>\n",
       "      <td>(2, 0, 3, 4, 1)</td>\n",
       "      <td>0.796644</td>\n",
       "    </tr>\n",
       "    <tr>\n",
       "      <th>4</th>\n",
       "      <td>NMF - Frobenius</td>\n",
       "      <td>(2, 3, 1, 4, 0)</td>\n",
       "      <td>0.941611</td>\n",
       "    </tr>\n",
       "    <tr>\n",
       "      <th>5</th>\n",
       "      <td>NMF - KL</td>\n",
       "      <td>(2, 3, 1, 4, 0)</td>\n",
       "      <td>0.921477</td>\n",
       "    </tr>\n",
       "    <tr>\n",
       "      <th>6</th>\n",
       "      <td>Decision Tree</td>\n",
       "      <td>(0, 1, 2, 3, 4)</td>\n",
       "      <td>0.798658</td>\n",
       "    </tr>\n",
       "  </tbody>\n",
       "</table>\n",
       "</div>"
      ],
      "text/plain": [
       "                      Model      Label_order  Accuracy_score\n",
       "0   Cluster (SVD) - Cos/Avg  (4, 1, 3, 0, 2)        0.954362\n",
       "1   Cluster (SVD) - Cos/Com  (2, 4, 1, 0, 3)        0.917450\n",
       "2  Cluster (SVD) - Euc/Ward  (4, 0, 2, 3, 1)        0.932215\n",
       "3   Cluster (SVD) - Euc/Avg  (2, 0, 3, 4, 1)        0.796644\n",
       "4           NMF - Frobenius  (2, 3, 1, 4, 0)        0.941611\n",
       "5                  NMF - KL  (2, 3, 1, 4, 0)        0.921477\n",
       "6             Decision Tree  (0, 1, 2, 3, 4)        0.798658"
      ]
     },
     "execution_count": 410,
     "metadata": {},
     "output_type": "execute_result"
    }
   ],
   "source": [
    "Model_comparison_rstrct"
   ]
  },
  {
   "cell_type": "code",
   "execution_count": 417,
   "id": "6b251ea1",
   "metadata": {},
   "outputs": [
    {
     "data": {
      "image/png": "[encoded data removed]",
      "text/plain": [
       "<Figure size 864x360 with 2 Axes>"
      ]
     },
     "metadata": {
      "needs_background": "light"
     },
     "output_type": "display_data"
    }
   ],
   "source": [
    "\n",
    "# Set up the matplotlib figure and axes\n",
    "fig, axs = plt.subplots(1, 2, figsize=(12, 5), sharey=True)  # Share Y axis between subplots\n",
    "\n",
    "# First subplot\n",
    "sns.lineplot(data=Model_comparison_def, x='Model', y='Accuracy_score', marker='o', linestyle='-', color='blue', ax=axs[0])\n",
    "sns.scatterplot(data=Model_comparison_def, x='Model', y='Accuracy_score', color='red', s=100, ax=axs[0])\n",
    "axs[0].set_title('Accuracy Scores by Model - Default TFiDF Vectorization')\n",
    "axs[0].set_xlabel('Model')\n",
    "axs[0].set_ylabel('Accuracy Score')\n",
    "axs[0].tick_params(axis='x', rotation=45)\n",
    "\n",
    "\n",
    "\n",
    "# Second subplot\n",
    "sns.lineplot(data=Model_comparison_rstrct, x='Model', y='Accuracy_score', marker='o', linestyle='-', color='green', ax=axs[1])\n",
    "sns.scatterplot(data=Model_comparison_rstrct, x='Model', y='Accuracy_score', color='orange', s=100, ax=axs[1])\n",
    "axs[1].set_title('Accuracy Scores by Model - Restricted TFiDF Vectorization')\n",
    "axs[1].set_xlabel('Model')\n",
    "axs[1].set_ylabel('Accuracy Score')\n",
    "axs[1].tick_params(axis='x', rotation=45)\n",
    "\n",
    "# Automatically adjust subplot params so that the subplot(s) fits in to the figure area.\n",
    "plt.tight_layout()\n",
    "\n",
    "# Show the plot\n",
    "plt.show()"
   ]
  },
  {
   "cell_type": "markdown",
   "id": "a0e53e08",
   "metadata": {},
   "source": [
    "These graphs show that the models that used the restricted TFiDF vectorized matrix performed better than the TFiDF vectorized matrix that used the default parameters. The Wilcoxon test resulted in a p-value lower than the default alpha set, which suggests that the parameters used in the TFiDF vectorization process result in a statistically significant difference in accuracy scores. \n",
    "\n",
    "Pretty cool! "
   ]
  },
  {
   "cell_type": "markdown",
   "id": "b8d7ad19",
   "metadata": {},
   "source": [
    "\n",
    "\n",
    "It looks like the models that used the Restricted TFiDF Vectorized Matrices performed better with higher accuracy. Let's do an F-test to see if there is a statistically significant difference between the two vectorized matrices. \n",
    "\n",
    "Since I don't have a large group of model accuracy scores, and I can't guarantee that normality is met, I can't use a t-test, so I'll use a Wilcoxon test. I'll use the default alpha as 0.05 and see if the p-value of the test is significant. "
   ]
  },
  {
   "cell_type": "code",
   "execution_count": 412,
   "id": "43e4815c",
   "metadata": {},
   "outputs": [
    {
     "name": "stdout",
     "output_type": "stream",
     "text": [
      "Wilcoxon Statistic: 0.0\n",
      "P-Value: 0.015625\n"
     ]
    }
   ],
   "source": [
    "from scipy.stats import wilcoxon\n",
    "\n",
    "# Apply Wilcoxon Signed-Rank Test\n",
    "stat, p_value = wilcoxon(Model_comparison_def.Accuracy_score, Model_comparison_rstrct.Accuracy_score)\n",
    "print(\"Wilcoxon Statistic:\", stat)\n",
    "print(\"P-Value:\", p_value)"
   ]
  },
  {
   "cell_type": "markdown",
   "id": "ae06d703",
   "metadata": {},
   "source": [
    "## Conclusion\n",
    "\n",
    "All in all, the model with the highest accuracy score was the Clustering model with metric = 'Cosine' and linkage = 'Average' fitting the TFiDF Vectorized data with a more conservative exclusion of words AFTER perfoming dimensionality reduction through TruncatedSVD method. The second best model was the NonNegative Matrix Factorization model again, on the restricted TFiDF Vectorized data. "
   ]
  },
  {
   "cell_type": "code",
   "execution_count": null,
   "id": "b5f9086c",
   "metadata": {},
   "outputs": [],
   "source": []
  }
 ],
 "metadata": {
  "kernelspec": {
   "display_name": "Python 3",
   "language": "python",
   "name": "python3"
  },
  "language_info": {
   "codemirror_mode": {
    "name": "ipython",
    "version": 3
   },
   "file_extension": ".py",
   "mimetype": "text/x-python",
   "name": "python",
   "nbconvert_exporter": "python",
   "pygments_lexer": "ipython3",
   "version": "3.10.12"
  }
 },
 "nbformat": 4,
 "nbformat_minor": 5
}
